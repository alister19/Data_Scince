{
 "cells": [
  {
   "cell_type": "code",
   "execution_count": 1,
   "metadata": {},
   "outputs": [],
   "source": [
    "from sklearn import preprocessing\n",
    "import numpy as np"
   ]
  },
  {
   "cell_type": "code",
   "execution_count": 8,
   "metadata": {},
   "outputs": [],
   "source": [
    "X_train = np.array([\n",
    "    [10., -10., 20.],\n",
    "    [20., 0., 0.],\n",
    "    [0., 10., -10.]\n",
    "])"
   ]
  },
  {
   "cell_type": "code",
   "execution_count": null,
   "metadata": {},
   "outputs": [],
   "source": [
    "scaler = preprocessing.StandardScaler().fit(X_train)\n",
    "X_transformed = scaler.transform(X_train)\n",
    "X_transformed"
   ]
  },
  {
   "cell_type": "code",
   "execution_count": null,
   "metadata": {},
   "outputs": [],
   "source": [
    "X_train.std()"
   ]
  },
  {
   "cell_type": "code",
   "execution_count": null,
   "metadata": {},
   "outputs": [],
   "source": [
    "X_transformed.std()"
   ]
  },
  {
   "cell_type": "code",
   "execution_count": null,
   "metadata": {},
   "outputs": [],
   "source": [
    "\"\"\"Сэмпл побольше)))))\"\"\"\n",
    "import matplotlib.pyplot as plt  \n",
    "\n",
    "sample = np.random.randn(100, 10) * 5 + 20\n",
    "\n",
    "plt.figure(figsize=(25, 10))\n",
    "plt.grid()\n",
    "violin_parts = plt.violinplot(sample[:,:], showmedians=True)\n",
    "for pc in violin_parts['bodies']:\n",
    "    pc.set_facecolor('red')\n",
    "\n",
    "scaled_sample = preprocessing.StandardScaler().fit_transform(sample)\n",
    "\n",
    "violin_parts = plt.violinplot(sample[:,:], showmedians=True)\n",
    "for pc in violin_parts['bodies']:\n",
    "    pc.set_facecolor('green')"
   ]
  },
  {
   "cell_type": "code",
   "execution_count": null,
   "metadata": {},
   "outputs": [],
   "source": [
    "\"\"\"Normalize\"\"\"\n",
    "\n",
    "X = np.random.randn(1000, 1) * 1.5\n",
    "normalizer_l2 = preprocessing.Normalizer(norm='l2').fit(X)\n",
    "normalizer_l1 = preprocessing.Normalizer(norm='l1').fit(X)\n",
    "X_norm_l2 = normalizer_l2.transform(X)\n",
    "X_norm_l1 = normalizer_l1.transform(X)\n",
    "plt.figure(figsize=(25, 10))\n",
    "plt.grid()\n",
    "plt.violinplot(X)\n",
    "plt.violinplot(X_norm_l2)\n",
    "plt.violinplot(X_norm_l1)"
   ]
  }
 ],
 "metadata": {
  "kernelspec": {
   "display_name": "Python 3",
   "language": "python",
   "name": "python3"
  },
  "language_info": {
   "codemirror_mode": {
    "name": "ipython",
    "version": 3
   },
   "file_extension": ".py",
   "mimetype": "text/x-python",
   "name": "python",
   "nbconvert_exporter": "python",
   "pygments_lexer": "ipython3",
   "version": "3.10.0"
  },
  "orig_nbformat": 4
 },
 "nbformat": 4,
 "nbformat_minor": 2
}
