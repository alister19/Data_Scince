{
 "cells": [
  {
   "cell_type": "code",
   "execution_count": 1,
   "metadata": {},
   "outputs": [
    {
     "data": {
      "text/plain": [
       "0    1\n",
       "1    2\n",
       "2    3\n",
       "3    4\n",
       "4    5\n",
       "dtype: int64"
      ]
     },
     "execution_count": 1,
     "metadata": {},
     "output_type": "execute_result"
    }
   ],
   "source": [
    "import numpy as np\n",
    "import pandas as pd\n",
    "\n",
    "\"\"\"\n",
    "Ряд в Pandas - это специальная структура данных\n",
    "\"\"\"\n",
    "s1 = pd.Series([1, 2, 3, 4, 5])\n",
    "s1"
   ]
  },
  {
   "cell_type": "code",
   "execution_count": null,
   "metadata": {},
   "outputs": [],
   "source": [
    "\"\"\"\n",
    "Ряды можно создавать из np.array и наоборот: возвращать в формат массива numpy \n",
    "\"\"\"\n",
    "s1.to_numpy()"
   ]
  },
  {
   "cell_type": "code",
   "execution_count": null,
   "metadata": {},
   "outputs": [],
   "source": [
    "\"\"\"\n",
    "Индексацию можно провести не только при помощи чисел \n",
    "\"\"\"\n",
    "s2 = pd.Series([1, 2, 3, 4, 5], ['a', 'b', 'c', 'd', 'e'])\n",
    "s2"
   ]
  },
  {
   "cell_type": "code",
   "execution_count": null,
   "metadata": {},
   "outputs": [],
   "source": [
    "# Обращение по индексу\n",
    "s2.iloc[3]"
   ]
  },
  {
   "cell_type": "code",
   "execution_count": null,
   "metadata": {},
   "outputs": [],
   "source": [
    "# Создание из словаря\n",
    "d = {'a': 2., 'b': 3., 'c': 1.}\n",
    "s3 = pd.Series(d)\n",
    "s3"
   ]
  },
  {
   "cell_type": "code",
   "execution_count": null,
   "metadata": {},
   "outputs": [],
   "source": [
    "# Варианты индексации\n",
    "s6 = pd.Series([1, 2, 3, 4, 5], ['a', 'b', 'c', 'd', 'e'])\n",
    "print('s6[1] = ', s6.iloc[1])\n",
    "print('s6[d] = ', s6['d'])\n",
    "print('Срез: \\n', s6[2:4], '\\n')\n",
    "\n",
    "print(\"Индексация условным выражением: s6[s6 <= 3] : \\n\", s6[s6 % 2 == 1])"
   ]
  },
  {
   "cell_type": "markdown",
   "metadata": {},
   "source": [
    "Табличные данные в Pandas"
   ]
  },
  {
   "cell_type": "code",
   "execution_count": 7,
   "metadata": {},
   "outputs": [
    {
     "data": {
      "text/html": [
       "<div>\n",
       "<style scoped>\n",
       "    .dataframe tbody tr th:only-of-type {\n",
       "        vertical-align: middle;\n",
       "    }\n",
       "\n",
       "    .dataframe tbody tr th {\n",
       "        vertical-align: top;\n",
       "    }\n",
       "\n",
       "    .dataframe thead th {\n",
       "        text-align: right;\n",
       "    }\n",
       "</style>\n",
       "<table border=\"1\" class=\"dataframe\">\n",
       "  <thead>\n",
       "    <tr style=\"text-align: right;\">\n",
       "      <th></th>\n",
       "      <th>price</th>\n",
       "      <th>count</th>\n",
       "    </tr>\n",
       "  </thead>\n",
       "  <tbody>\n",
       "    <tr>\n",
       "      <th>0</th>\n",
       "      <td>1</td>\n",
       "      <td>10</td>\n",
       "    </tr>\n",
       "    <tr>\n",
       "      <th>1</th>\n",
       "      <td>2</td>\n",
       "      <td>12</td>\n",
       "    </tr>\n",
       "    <tr>\n",
       "      <th>2</th>\n",
       "      <td>3</td>\n",
       "      <td>7</td>\n",
       "    </tr>\n",
       "  </tbody>\n",
       "</table>\n",
       "</div>"
      ],
      "text/plain": [
       "   price  count\n",
       "0      1     10\n",
       "1      2     12\n",
       "2      3      7"
      ]
     },
     "execution_count": 7,
     "metadata": {},
     "output_type": "execute_result"
    }
   ],
   "source": [
    "\"\"\"\n",
    "Структура DataFrame\n",
    "Создание из pd.Series \n",
    "\"\"\"\n",
    "d = {\"price\": pd.Series([1, 2, 3]), \"count\": pd.Series([10, 12, 7])}\n",
    "df1 = pd.DataFrame(d)\n",
    "df1"
   ]
  },
  {
   "cell_type": "code",
   "execution_count": 8,
   "metadata": {},
   "outputs": [
    {
     "data": {
      "text/html": [
       "<div>\n",
       "<style scoped>\n",
       "    .dataframe tbody tr th:only-of-type {\n",
       "        vertical-align: middle;\n",
       "    }\n",
       "\n",
       "    .dataframe tbody tr th {\n",
       "        vertical-align: top;\n",
       "    }\n",
       "\n",
       "    .dataframe thead th {\n",
       "        text-align: right;\n",
       "    }\n",
       "</style>\n",
       "<table border=\"1\" class=\"dataframe\">\n",
       "  <thead>\n",
       "    <tr style=\"text-align: right;\">\n",
       "      <th></th>\n",
       "      <th>price</th>\n",
       "      <th>count</th>\n",
       "    </tr>\n",
       "  </thead>\n",
       "  <tbody>\n",
       "    <tr>\n",
       "      <th>product1</th>\n",
       "      <td>1</td>\n",
       "      <td>10</td>\n",
       "    </tr>\n",
       "    <tr>\n",
       "      <th>product2</th>\n",
       "      <td>2</td>\n",
       "      <td>12</td>\n",
       "    </tr>\n",
       "    <tr>\n",
       "      <th>product3</th>\n",
       "      <td>3</td>\n",
       "      <td>5</td>\n",
       "    </tr>\n",
       "  </tbody>\n",
       "</table>\n",
       "</div>"
      ],
      "text/plain": [
       "          price  count\n",
       "product1      1     10\n",
       "product2      2     12\n",
       "product3      3      5"
      ]
     },
     "execution_count": 8,
     "metadata": {},
     "output_type": "execute_result"
    }
   ],
   "source": [
    "\"\"\"\n",
    "Можно задать собственный вариант индексации \n",
    "\"\"\"\n",
    "d = {\"price\": pd.Series([1, 2, 3], index=['product1', 'product2', 'product3']), \n",
    "     \"count\": pd.Series([10, 12, 5], index=['product1', 'product2', 'product3'])}\n",
    "df2 = pd.DataFrame(d)\n",
    "df2"
   ]
  },
  {
   "cell_type": "code",
   "execution_count": 9,
   "metadata": {},
   "outputs": [
    {
     "data": {
      "text/plain": [
       "Index(['product1', 'product2', 'product3'], dtype='object')"
      ]
     },
     "execution_count": 9,
     "metadata": {},
     "output_type": "execute_result"
    }
   ],
   "source": [
    "df2.index"
   ]
  },
  {
   "cell_type": "code",
   "execution_count": 10,
   "metadata": {},
   "outputs": [
    {
     "data": {
      "text/plain": [
       "Index(['price', 'count'], dtype='object')"
      ]
     },
     "execution_count": 10,
     "metadata": {},
     "output_type": "execute_result"
    }
   ],
   "source": [
    "df2.columns"
   ]
  },
  {
   "cell_type": "code",
   "execution_count": null,
   "metadata": {},
   "outputs": [],
   "source": [
    "\"\"\"\n",
    "Создание из массива словарей \n",
    "\"\"\"\n",
    "\n",
    "d3 = [{\"price\": 3, \"count\": 8}, {\"price\": 4, \"count\": 12}]\n",
    "df3 = pd.DataFrame(d3)\n",
    "df3"
   ]
  },
  {
   "cell_type": "code",
   "execution_count": null,
   "metadata": {},
   "outputs": [],
   "source": [
    "df3.info()"
   ]
  },
  {
   "cell_type": "markdown",
   "metadata": {},
   "source": [
    "Датасет по продажам"
   ]
  },
  {
   "cell_type": "code",
   "execution_count": 2,
   "metadata": {},
   "outputs": [
    {
     "data": {
      "text/html": [
       "<div>\n",
       "<style scoped>\n",
       "    .dataframe tbody tr th:only-of-type {\n",
       "        vertical-align: middle;\n",
       "    }\n",
       "\n",
       "    .dataframe tbody tr th {\n",
       "        vertical-align: top;\n",
       "    }\n",
       "\n",
       "    .dataframe thead th {\n",
       "        text-align: right;\n",
       "    }\n",
       "</style>\n",
       "<table border=\"1\" class=\"dataframe\">\n",
       "  <thead>\n",
       "    <tr style=\"text-align: right;\">\n",
       "      <th></th>\n",
       "      <th>2023; 3; 28; 7; 40; -1; 0; 233.5; 221.1; -1; 0; 234.1; 221.6; -1; 0; 233.4; 220.9</th>\n",
       "    </tr>\n",
       "  </thead>\n",
       "  <tbody>\n",
       "    <tr>\n",
       "      <th>0</th>\n",
       "      <td>2023; 3; 28; 7; 41; -1; 0; 233.5; 221.1; -1; 0...</td>\n",
       "    </tr>\n",
       "    <tr>\n",
       "      <th>1</th>\n",
       "      <td>2023; 3; 28; 7; 42; -1; 0; 233.4; 221.1; -1; 0...</td>\n",
       "    </tr>\n",
       "    <tr>\n",
       "      <th>2</th>\n",
       "      <td>2023; 3; 28; 7; 43; -1; 0; 233.5; 221.2; -1; 0...</td>\n",
       "    </tr>\n",
       "    <tr>\n",
       "      <th>3</th>\n",
       "      <td>2023; 3; 28; 7; 44; -1; 0; 233.3; 220.9; -1; 0...</td>\n",
       "    </tr>\n",
       "    <tr>\n",
       "      <th>4</th>\n",
       "      <td>2023; 3; 28; 7; 45; -1; 0; 233.3; 221; -1; 0; ...</td>\n",
       "    </tr>\n",
       "    <tr>\n",
       "      <th>5</th>\n",
       "      <td>2023; 3; 28; 7; 46; -1; 0; 233.4; 221.2; -1; 0...</td>\n",
       "    </tr>\n",
       "    <tr>\n",
       "      <th>6</th>\n",
       "      <td>2023; 3; 28; 7; 47; -1; 0; 233.2; 220.8; -1; 0...</td>\n",
       "    </tr>\n",
       "    <tr>\n",
       "      <th>7</th>\n",
       "      <td>2023; 3; 28; 7; 48; -1; 0; 233.3; 221.1; -1; 0...</td>\n",
       "    </tr>\n",
       "    <tr>\n",
       "      <th>8</th>\n",
       "      <td>2023; 3; 28; 7; 49; -1; 0; 233.5; 221.2; -1; 0...</td>\n",
       "    </tr>\n",
       "    <tr>\n",
       "      <th>9</th>\n",
       "      <td>2023; 3; 28; 7; 50; -1; 0; 233.5; 221.1; -1; 0...</td>\n",
       "    </tr>\n",
       "    <tr>\n",
       "      <th>10</th>\n",
       "      <td>2023; 3; 28; 7; 51; -1; 0; 233.3; 221; -1; 0; ...</td>\n",
       "    </tr>\n",
       "    <tr>\n",
       "      <th>11</th>\n",
       "      <td>2023; 3; 28; 7; 52; -1; 0; 233.5; 221.3; -1; 0...</td>\n",
       "    </tr>\n",
       "    <tr>\n",
       "      <th>12</th>\n",
       "      <td>2023; 3; 28; 7; 53; -1; 0; 233.5; 221.3; -1; 0...</td>\n",
       "    </tr>\n",
       "    <tr>\n",
       "      <th>13</th>\n",
       "      <td>2023; 3; 28; 7; 54; -1; 0; 233.4; 221.1; -1; 0...</td>\n",
       "    </tr>\n",
       "    <tr>\n",
       "      <th>14</th>\n",
       "      <td>2023; 3; 28; 7; 55; -1; 0; 233.6; 221.2; -1; 0...</td>\n",
       "    </tr>\n",
       "    <tr>\n",
       "      <th>15</th>\n",
       "      <td>2023; 3; 28; 9; 1; -1; 0; 233.5; 221.2; -1; 0;...</td>\n",
       "    </tr>\n",
       "    <tr>\n",
       "      <th>16</th>\n",
       "      <td>2023; 3; 28; 7; 56; -9; 0; 0; 0; 0; 0; 0; 0; 0...</td>\n",
       "    </tr>\n",
       "    <tr>\n",
       "      <th>17</th>\n",
       "      <td>2023; 3; 29; 14; 41; -9; 0; 0; 0; 0; 0; 0; 0; ...</td>\n",
       "    </tr>\n",
       "    <tr>\n",
       "      <th>18</th>\n",
       "      <td>2023; 3; 29; 14; 41; -9; 0; 0; 0; 0; 0; 0; 0; ...</td>\n",
       "    </tr>\n",
       "    <tr>\n",
       "      <th>19</th>\n",
       "      <td>2023; 3; 29; 14; 42; 0; 0; 0; 0; 0; 0; 0; 0; 0...</td>\n",
       "    </tr>\n",
       "  </tbody>\n",
       "</table>\n",
       "</div>"
      ],
      "text/plain": [
       "   2023; 3; 28; 7; 40; -1; 0; 233.5; 221.1; -1; 0; 234.1; 221.6; -1; 0; 233.4; 220.9\n",
       "0   2023; 3; 28; 7; 41; -1; 0; 233.5; 221.1; -1; 0...                               \n",
       "1   2023; 3; 28; 7; 42; -1; 0; 233.4; 221.1; -1; 0...                               \n",
       "2   2023; 3; 28; 7; 43; -1; 0; 233.5; 221.2; -1; 0...                               \n",
       "3   2023; 3; 28; 7; 44; -1; 0; 233.3; 220.9; -1; 0...                               \n",
       "4   2023; 3; 28; 7; 45; -1; 0; 233.3; 221; -1; 0; ...                               \n",
       "5   2023; 3; 28; 7; 46; -1; 0; 233.4; 221.2; -1; 0...                               \n",
       "6   2023; 3; 28; 7; 47; -1; 0; 233.2; 220.8; -1; 0...                               \n",
       "7   2023; 3; 28; 7; 48; -1; 0; 233.3; 221.1; -1; 0...                               \n",
       "8   2023; 3; 28; 7; 49; -1; 0; 233.5; 221.2; -1; 0...                               \n",
       "9   2023; 3; 28; 7; 50; -1; 0; 233.5; 221.1; -1; 0...                               \n",
       "10  2023; 3; 28; 7; 51; -1; 0; 233.3; 221; -1; 0; ...                               \n",
       "11  2023; 3; 28; 7; 52; -1; 0; 233.5; 221.3; -1; 0...                               \n",
       "12  2023; 3; 28; 7; 53; -1; 0; 233.5; 221.3; -1; 0...                               \n",
       "13  2023; 3; 28; 7; 54; -1; 0; 233.4; 221.1; -1; 0...                               \n",
       "14  2023; 3; 28; 7; 55; -1; 0; 233.6; 221.2; -1; 0...                               \n",
       "15  2023; 3; 28; 9; 1; -1; 0; 233.5; 221.2; -1; 0;...                               \n",
       "16  2023; 3; 28; 7; 56; -9; 0; 0; 0; 0; 0; 0; 0; 0...                               \n",
       "17  2023; 3; 29; 14; 41; -9; 0; 0; 0; 0; 0; 0; 0; ...                               \n",
       "18  2023; 3; 29; 14; 41; -9; 0; 0; 0; 0; 0; 0; 0; ...                               \n",
       "19  2023; 3; 29; 14; 42; 0; 0; 0; 0; 0; 0; 0; 0; 0...                               "
      ]
     },
     "execution_count": 2,
     "metadata": {},
     "output_type": "execute_result"
    }
   ],
   "source": [
    "sales = pd.read_csv(\"tumen.csv\")\n",
    "sales.head(20)"
   ]
  },
  {
   "cell_type": "code",
   "execution_count": 3,
   "metadata": {},
   "outputs": [
    {
     "data": {
      "text/plain": [
       "(3882, 1)"
      ]
     },
     "execution_count": 3,
     "metadata": {},
     "output_type": "execute_result"
    }
   ],
   "source": [
    "sales.shape"
   ]
  },
  {
   "cell_type": "code",
   "execution_count": null,
   "metadata": {},
   "outputs": [],
   "source": [
    "sales25 = sales[sales.shop_id == 25]\n",
    "sales25"
   ]
  },
  {
   "cell_type": "code",
   "execution_count": null,
   "metadata": {},
   "outputs": [],
   "source": [
    "sales.date[:11]"
   ]
  },
  {
   "cell_type": "markdown",
   "metadata": {},
   "source": [
    "Очистка данных в Pandas"
   ]
  },
  {
   "cell_type": "code",
   "execution_count": null,
   "metadata": {},
   "outputs": [],
   "source": [
    "# Обработка пропусков\n",
    "DICT = {'Model' : ['Logistic Regression', \"SVM\", \"KNN\", \"Decision Tree\"], 'Accuracy' : [0.96, None, None, 0.67]}\n",
    "df = pd.DataFrame(DICT)\n",
    "df"
   ]
  },
  {
   "cell_type": "code",
   "execution_count": null,
   "metadata": {},
   "outputs": [],
   "source": [
    "df1 = df.fillna(0)\n",
    "df1\n",
    "df2 = df.fillna(1)\n",
    "df2"
   ]
  },
  {
   "cell_type": "code",
   "execution_count": null,
   "metadata": {},
   "outputs": [],
   "source": [
    "df3 = df.fillna(df['Accuracy'].min())\n",
    "df3"
   ]
  },
  {
   "cell_type": "code",
   "execution_count": null,
   "metadata": {},
   "outputs": [],
   "source": [
    "# Удаление дупликатов\n",
    "DICT = {'Организация' : ['Яндекс', 'Сбербанк', 'Мираторг', 'Яндекс', 'Mail.ru group', 'Сбербанк'],\n",
    "        'Форма организации' : ['OOO', 'ОАО', 'OOO', 'OOO', 'ПАО', 'ОАО']}\n",
    "df = pd.DataFrame(DICT)\n",
    "df"
   ]
  },
  {
   "cell_type": "code",
   "execution_count": null,
   "metadata": {},
   "outputs": [],
   "source": [
    "df.drop_duplicates()"
   ]
  }
 ],
 "metadata": {
  "kernelspec": {
   "display_name": "Python 3",
   "language": "python",
   "name": "python3"
  },
  "language_info": {
   "codemirror_mode": {
    "name": "ipython",
    "version": 3
   },
   "file_extension": ".py",
   "mimetype": "text/x-python",
   "name": "python",
   "nbconvert_exporter": "python",
   "pygments_lexer": "ipython3",
   "version": "3.10.0"
  },
  "orig_nbformat": 4
 },
 "nbformat": 4,
 "nbformat_minor": 2
}
